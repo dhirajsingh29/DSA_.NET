{
 "cells": [
  {
   "cell_type": "markdown",
   "metadata": {},
   "source": [
    "[Leetcode - 1480] Running Sum of 1d Array\n",
    "\n",
    "Given an array $nums$. We define a running sum of an array as $runningSum[i] = sum(nums[0]…nums[i])$.\n",
    "\n",
    "Return the running sum of $nums$.\n",
    "\n",
    "Example 1:\n",
    "> Input: nums = [1,2,3,4]  \n",
    "> Output: [1,3,6,10]  \n",
    "> Explanation: Running sum is obtained as follows: [1, 1+2, 1+2+3, 1+2+3+4].\n",
    "\n",
    "Example 2:\n",
    "> Input: nums = [1,1,1,1,1]  \n",
    "> Output: [1,2,3,4,5]  \n",
    "> Explanation: Running sum is obtained as follows: [1, 1+1, 1+1+1, 1+1+1+1, 1+1+1+1+1].\n",
    "\n",
    "Constraints:\n",
    "> - $1 <= nums.length <= 1000$\n",
    "> - $-10^{6} <= nums[i] <= 10^{6}$"
   ]
  },
  {
   "cell_type": "code",
   "execution_count": null,
   "metadata": {
    "dotnet_interactive": {
     "language": "csharp"
    },
    "vscode": {
     "languageId": "dotnet-interactive.csharp"
    }
   },
   "outputs": [
    {
     "data": {
      "text/html": [
       "<table><thead><tr><th><i>index</i></th><th>value</th></tr></thead><tbody><tr><td>0</td><td><div class=\"dni-plaintext\">1</div></td></tr><tr><td>1</td><td><div class=\"dni-plaintext\">3</div></td></tr><tr><td>2</td><td><div class=\"dni-plaintext\">6</div></td></tr><tr><td>3</td><td><div class=\"dni-plaintext\">10</div></td></tr></tbody></table>"
      ]
     },
     "metadata": {},
     "output_type": "display_data"
    }
   ],
   "source": [
    "public void RunningSum (int[] nums)\n",
    "{\n",
    "    int sum = 0;\n",
    "\n",
    "    for (int i = 0; i < nums.Length; i++)\n",
    "    {\n",
    "        sum += nums[i];\n",
    "        nums[i] = sum;\n",
    "    }\n",
    "}\n",
    "\n",
    "int[] nums = new int[] {1,2,3,4};\n",
    "\n",
    "RunningSum(nums);\n",
    "\n",
    "nums"
   ]
  }
 ],
 "metadata": {
  "kernelspec": {
   "display_name": ".NET (C#)",
   "language": "C#",
   "name": ".net-csharp"
  },
  "language_info": {
   "name": "C#"
  }
 },
 "nbformat": 4,
 "nbformat_minor": 2
}

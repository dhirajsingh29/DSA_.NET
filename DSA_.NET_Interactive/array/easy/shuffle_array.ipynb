{
 "cells": [
  {
   "cell_type": "markdown",
   "metadata": {},
   "source": [
    "[Leetcode - 1470] Shuffle the Array\n",
    "\n",
    "Given the array $nums$ consisting of $2n$ elements in the form $[x1,x2,...,xn,y1,y2,...,yn]$.\n",
    "\n",
    "*Return the array in the form* $[x1,y1,x2,y2,...,xn,yn]$.\n",
    "\n",
    "Example 1:\n",
    "Input: nums = [2,5,1,3,4,7], n = 3  \n",
    "Output: [2,3,5,4,1,7]  \n",
    "Explanation: Since x1=2, x2=5, x3=1, y1=3, y2=4, y3=7 then the answer is [2,3,5,4,1,7].\n",
    "\n",
    "Example 2:\n",
    "Input: nums = [1,2,3,4,4,3,2,1], n = 4  \n",
    "Output: [1,4,2,3,3,2,4,1]\n",
    "\n",
    "Constraints:\n",
    "> - $1 <= n <= 500$\n",
    "> - $nums.length == 2n$\n",
    "> - $1 <= nums[i] <= 10^{3}$"
   ]
  },
  {
   "cell_type": "code",
   "execution_count": null,
   "metadata": {
    "dotnet_interactive": {
     "language": "csharp"
    },
    "vscode": {
     "languageId": "dotnet-interactive.csharp"
    }
   },
   "outputs": [
    {
     "data": {
      "text/html": [
       "<table><thead><tr><th><i>index</i></th><th>value</th></tr></thead><tbody><tr><td>0</td><td><div class=\"dni-plaintext\">2</div></td></tr><tr><td>1</td><td><div class=\"dni-plaintext\">3</div></td></tr><tr><td>2</td><td><div class=\"dni-plaintext\">5</div></td></tr><tr><td>3</td><td><div class=\"dni-plaintext\">4</div></td></tr><tr><td>4</td><td><div class=\"dni-plaintext\">1</div></td></tr><tr><td>5</td><td><div class=\"dni-plaintext\">7</div></td></tr></tbody></table>"
      ]
     },
     "metadata": {},
     "output_type": "display_data"
    }
   ],
   "source": [
    "public int[] Shuffle (int[] nums, int n)\n",
    "{\n",
    "    int[] res = new int[2 * n];\n",
    "\n",
    "    for (int i = 0, j = 0; i < n; i++, j += 2)\n",
    "    {\n",
    "        res[j] = nums[i];\n",
    "        res[j + 1] = nums[i + n];\n",
    "    }\n",
    "\n",
    "    return res;\n",
    "}\n",
    "\n",
    "int[] nums = new int[] {2,5,1,3,4,7};\n",
    "int n = 3;\n",
    "\n",
    "int[] res = Shuffle(nums, n);\n",
    "\n",
    "res"
   ]
  },
  {
   "cell_type": "code",
   "execution_count": null,
   "metadata": {
    "dotnet_interactive": {
     "language": "csharp"
    },
    "vscode": {
     "languageId": "dotnet-interactive.csharp"
    }
   },
   "outputs": [
    {
     "data": {
      "text/html": [
       "<table><thead><tr><th><i>index</i></th><th>value</th></tr></thead><tbody><tr><td>0</td><td><div class=\"dni-plaintext\">2</div></td></tr><tr><td>1</td><td><div class=\"dni-plaintext\">3</div></td></tr><tr><td>2</td><td><div class=\"dni-plaintext\">5</div></td></tr><tr><td>3</td><td><div class=\"dni-plaintext\">4</div></td></tr><tr><td>4</td><td><div class=\"dni-plaintext\">1</div></td></tr><tr><td>5</td><td><div class=\"dni-plaintext\">7</div></td></tr></tbody></table>"
      ]
     },
     "metadata": {},
     "output_type": "display_data"
    }
   ],
   "source": [
    "public void Shuffle (int[] nums, int n)\n",
    "{\n",
    "    for (int i = 0; i < n; i++)\n",
    "    {\n",
    "        // multiply and mod with 1000 as that is highest number which array can have\n",
    "        nums[i + n] = nums[i] + (1000 * (nums[i + n] % 1000));\n",
    "    }\n",
    "\n",
    "    for (int i = 0, j = 0; i < n; i++, j += 2)\n",
    "    {\n",
    "        nums[j] = nums[i + n] % 1000;\n",
    "        nums[j + 1] = nums[i + n] / 1000;\n",
    "    }\n",
    "}\n",
    "\n",
    "int[] nums = new int[] {2,5,1,3,4,7};\n",
    "int n = 3;\n",
    "\n",
    "Shuffle(nums, n);\n",
    "\n",
    "nums"
   ]
  },
  {
   "cell_type": "code",
   "execution_count": null,
   "metadata": {
    "dotnet_interactive": {
     "language": "csharp"
    },
    "vscode": {
     "languageId": "dotnet-interactive.csharp"
    }
   },
   "outputs": [
    {
     "data": {
      "text/html": [
       "<table><thead><tr><th><i>index</i></th><th>value</th></tr></thead><tbody><tr><td>0</td><td><div class=\"dni-plaintext\">2</div></td></tr><tr><td>1</td><td><div class=\"dni-plaintext\">3</div></td></tr><tr><td>2</td><td><div class=\"dni-plaintext\">5</div></td></tr><tr><td>3</td><td><div class=\"dni-plaintext\">4</div></td></tr><tr><td>4</td><td><div class=\"dni-plaintext\">1</div></td></tr><tr><td>5</td><td><div class=\"dni-plaintext\">7</div></td></tr></tbody></table>"
      ]
     },
     "metadata": {},
     "output_type": "display_data"
    }
   ],
   "source": [
    "public void Shuffle (int[] nums, int n)\n",
    "{\n",
    "    int mask = 1023;\n",
    "    int bits = 10;\n",
    "\n",
    "    for (int i = 0; i < n; i++)\n",
    "    {\n",
    "        nums[i + n] = (nums[i] & mask) | ((nums[i + n] & mask) << bits); \n",
    "    }\n",
    "\n",
    "    for (int i = 0, j = 0; i < n; i++, j += 2)\n",
    "    {\n",
    "        nums[j] = nums[i + n] & mask;\n",
    "        nums[j + 1] = nums[i + n] >> bits;\n",
    "    }\n",
    "}\n",
    "\n",
    "int[] nums = new int[] {2,5,1,3,4,7};\n",
    "int n = 3;\n",
    "\n",
    "Shuffle(nums, n);\n",
    "\n",
    "nums"
   ]
  },
  {
   "cell_type": "code",
   "execution_count": null,
   "metadata": {
    "dotnet_interactive": {
     "language": "csharp"
    },
    "vscode": {
     "languageId": "dotnet-interactive.csharp"
    }
   },
   "outputs": [
    {
     "name": "stdout",
     "output_type": "stream",
     "text": [
      "3074\r\n",
      "2\r\n"
     ]
    }
   ],
   "source": [
    "int x = 0b110000000000;\n",
    "int y = 0b10;\n",
    "Console.WriteLine(x | y);\n",
    "\n",
    "Console.WriteLine((x | y) & 1023);"
   ]
  }
 ],
 "metadata": {
  "kernelspec": {
   "display_name": ".NET (C#)",
   "language": "C#",
   "name": ".net-csharp"
  },
  "language_info": {
   "file_extension": ".cs",
   "mimetype": "text/x-csharp",
   "name": "C#",
   "pygments_lexer": "csharp",
   "version": "9.0"
  },
  "orig_nbformat": 4
 },
 "nbformat": 4,
 "nbformat_minor": 2
}

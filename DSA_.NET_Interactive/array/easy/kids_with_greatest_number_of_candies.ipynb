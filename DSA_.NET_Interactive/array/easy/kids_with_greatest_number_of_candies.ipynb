{
 "cells": [
  {
   "cell_type": "markdown",
   "metadata": {},
   "source": [
    "[Leetcode - 1431] Kids With the Greatest Number of Candies\n",
    "\n",
    "There are $n$ kids with candies. You are given an integer array $candies$, where each $candies[i]$ represents the number of candies the $ith$ kid has, and an integer $extraCandies$, denoting the number of extra candies that you have.\n",
    "\n",
    "Return *a boolean array $result$ of length $n$, where $result[i]$ is $true$ if, after giving the $ith$ kid all the $extraCandies$, they will have the **greatest** number of candies among all the kids, or $false$ otherwise*.\n",
    "\n",
    "Note that **multiple** kids can have the **greatest** number of candies.\n",
    "\n",
    "Example 1:\n",
    "> Input: $candies = [2,3,5,1,3]$, $extraCandies = 3$  \n",
    "> Output: [true,true,true,false,true]  \n",
    "> Explanation: If you give all extraCandies to:\n",
    "> - Kid 1, they will have 2 + 3 = 5 candies, which is the greatest among the kids.\n",
    "> - Kid 2, they will have 3 + 3 = 6 candies, which is the greatest among the kids.\n",
    "> - Kid 3, they will have 5 + 3 = 8 candies, which is the greatest among the kids.\n",
    "> - Kid 4, they will have 1 + 3 = 4 candies, which is not the greatest among the kids.\n",
    "> - Kid 5, they will have 3 + 3 = 6 candies, which is the greatest among the kids.\n",
    "\n",
    "Example 2:\n",
    "> Input: $candies = [4,2,1,1,2]$, $extraCandies = 1$  \n",
    "> Output: [true,false,false,false,false]  \n",
    "> Explanation: There is only 1 extra candy.\n",
    "Kid 1 will always have the greatest number of candies, even if a different kid is given the extra candy.\n",
    "\n",
    "Constraints:\n",
    "> - $n == candies.length$\n",
    "> - $2 <= n <= 100$\n",
    "> - $1 <= candies[i] <= 100$\n",
    "> - $1 <= extraCandies <= 50$\n"
   ]
  },
  {
   "cell_type": "code",
   "execution_count": null,
   "metadata": {
    "dotnet_interactive": {
     "language": "csharp"
    },
    "vscode": {
     "languageId": "dotnet-interactive.csharp"
    }
   },
   "outputs": [
    {
     "data": {
      "text/html": [
       "<table><thead><tr><th><i>index</i></th><th>value</th></tr></thead><tbody><tr><td>0</td><td><div class=\"dni-plaintext\">True</div></td></tr><tr><td>1</td><td><div class=\"dni-plaintext\">True</div></td></tr><tr><td>2</td><td><div class=\"dni-plaintext\">True</div></td></tr><tr><td>3</td><td><div class=\"dni-plaintext\">False</div></td></tr><tr><td>4</td><td><div class=\"dni-plaintext\">True</div></td></tr></tbody></table>"
      ]
     },
     "metadata": {},
     "output_type": "display_data"
    }
   ],
   "source": [
    "public IList<bool> KidsWithCandies (int[] candies, int extraCandies)\n",
    "{\n",
    "    int max = candies.Max();\n",
    "\n",
    "    bool[] res = new bool[candies.Length];\n",
    "\n",
    "    for (int i = 0; i < candies.Length; i++)\n",
    "    {\n",
    "        res[i] = candies[i] + extraCandies >= max ? true : false;\n",
    "    }\n",
    "\n",
    "    return res;\n",
    "}\n",
    "\n",
    "int[] candies = new int[] {2,3,5,1,3};\n",
    "int extraCandies = 3;\n",
    "\n",
    "IList<bool> res = KidsWithCandies(candies, extraCandies);\n",
    "\n",
    "res"
   ]
  }
 ],
 "metadata": {
  "kernelspec": {
   "display_name": ".NET (C#)",
   "language": "C#",
   "name": ".net-csharp"
  },
  "language_info": {
   "file_extension": ".cs",
   "mimetype": "text/x-csharp",
   "name": "C#",
   "pygments_lexer": "csharp",
   "version": "9.0"
  },
  "orig_nbformat": 4
 },
 "nbformat": 4,
 "nbformat_minor": 2
}

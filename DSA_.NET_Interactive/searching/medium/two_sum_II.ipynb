{
 "cells": [
  {
   "cell_type": "markdown",
   "metadata": {},
   "source": [
    "[Leetcode - 167] Two Sum II - Input Array Is Sorted\n",
    "\n",
    "Given a **1-indexed** array of integers $numbers$ that is already ***sorted in non-decreasing order***, find two numbers such that they add up to a specific $target$ number. Let these two numbers be $numbers[index1]$ and $numbers[index2]$ where $1 <= index1 < index2 <= numbers.length$.\n",
    "\n",
    "Return *the indices of the two numbers, $index1$ and $index2$, **added by one** as an integer array $[index1, index2]$ of length 2*.\n",
    "\n",
    "The tests are generated such that there is **exactly one solution**. You **may not** use the same element twice.\n",
    "\n",
    "Your solution must use only constant extra space.\n",
    "\n",
    "Example 1:\n",
    "> Input: numbers = [2,7,11,15], target = 9  \n",
    "> Output: [1,2]  \n",
    "> Explanation: The sum of 2 and 7 is 9. Therefore, index1 = 1, index2 = 2. We return [1, 2].\n",
    "\n",
    "Example 2:\n",
    "> Input: numbers = [2,3,4], target = 6  \n",
    "> Output: [1,3]  \n",
    "> Explanation: The sum of 2 and 4 is 6. Therefore index1 = 1, index2 = 3. We return [1, 3].\n",
    "\n",
    "Example 3:\n",
    "> Input: numbers = [-1,0], target = -1  \n",
    "> Output: [1,2]  \n",
    "> Explanation: The sum of -1 and 0 is -1. Therefore index1 = 1, index2 = 2. We return [1, 2].\n",
    "\n",
    "Constraints:\n",
    "> - $2 <= numbers.length <= 3 * 10^{4}$\n",
    "> - $-1000 <= numbers[i] <= 1000$\n",
    "> - $numbers$ is sorted in **non-decreasing order**.\n",
    "> - $-1000 <= target <= 1000$\n",
    "> - The tests are generated such that there is **exactly one solution**."
   ]
  },
  {
   "cell_type": "code",
   "execution_count": null,
   "metadata": {
    "dotnet_interactive": {
     "language": "csharp"
    },
    "vscode": {
     "languageId": "dotnet-interactive.csharp"
    }
   },
   "outputs": [
    {
     "data": {
      "text/html": [
       "<table><thead><tr><th><i>index</i></th><th>value</th></tr></thead><tbody><tr><td>0</td><td><div class=\"dni-plaintext\">0</div></td></tr><tr><td>1</td><td><div class=\"dni-plaintext\">1</div></td></tr></tbody></table>"
      ]
     },
     "metadata": {},
     "output_type": "display_data"
    }
   ],
   "source": [
    "public int[] TwoSum (int[] nums, int target)\n",
    "{\n",
    "    int l = 0; \n",
    "    int r = nums.Length - 1;\n",
    "\n",
    "    int[] res = new int[] {-1, -1};\n",
    "\n",
    "    while (l < r)\n",
    "    {\n",
    "        if (nums[l] + nums[r] == target)\n",
    "        {\n",
    "            res[0] = l;\n",
    "            res[1] = r;\n",
    "            return res;\n",
    "        }\n",
    "\n",
    "        if (nums[l] + nums[r] > target)\n",
    "        {\n",
    "            r--;\n",
    "        }\n",
    "        else\n",
    "        {\n",
    "            l++;\n",
    "        }\n",
    "    }\n",
    "\n",
    "    return res;\n",
    "}\n",
    "\n",
    "// int[] nums = new int[] {2, 7, 11, 15};\n",
    "// int target = 9;\n",
    "\n",
    "// int[] nums = new int[] {2, 3, 4};\n",
    "// int target = 6;\n",
    "\n",
    "int[] nums = new int[] {-1, 0};\n",
    "int target = -1;\n",
    "\n",
    "int[] res = TwoSum(nums, target);\n",
    "\n",
    "res"
   ]
  }
 ],
 "metadata": {
  "kernelspec": {
   "display_name": ".NET (C#)",
   "language": "C#",
   "name": ".net-csharp"
  },
  "language_info": {
   "file_extension": ".cs",
   "mimetype": "text/x-csharp",
   "name": "C#",
   "pygments_lexer": "csharp",
   "version": "9.0"
  },
  "orig_nbformat": 4
 },
 "nbformat": 4,
 "nbformat_minor": 2
}

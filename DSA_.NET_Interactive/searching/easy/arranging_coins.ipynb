{
 "cells": [
  {
   "cell_type": "markdown",
   "metadata": {},
   "source": [
    "[Leetcode - 441] Arranging Coins\n",
    "\n",
    "You have $n$ coins and you want to build a staircase with these coins. The staircase consists of $k$ rows where the $ith$ row has exactly $i$ coins. The last row of the staircase **may be** incomplete.\n",
    "\n",
    "Given the integer $n$, return *the number of **complete rows** of the staircase you will build*.\n",
    "\n",
    "Example 1:\n",
    "> Input: n = 5  \n",
    "> Output: 2  \n",
    "> Explanation: Because the 3rd row is incomplete, we return 2.\n",
    "\n",
    "Example 2:\n",
    "> Input: n = 8  \n",
    "> Output: 3  \n",
    "> Explanation: Because the 4th row is incomplete, we return 3.\n",
    "\n",
    "Constraints:\n",
    "> - $1 <= n <= 2^{31} - 1$"
   ]
  },
  {
   "cell_type": "markdown",
   "metadata": {},
   "source": [
    "**Basic approach**"
   ]
  },
  {
   "cell_type": "code",
   "execution_count": null,
   "metadata": {
    "dotnet_interactive": {
     "language": "csharp"
    },
    "vscode": {
     "languageId": "dotnet-interactive.csharp"
    }
   },
   "outputs": [
    {
     "data": {
      "text/html": [
       "<div class=\"dni-plaintext\">8275</div>"
      ]
     },
     "metadata": {},
     "output_type": "display_data"
    }
   ],
   "source": [
    "public int CompleteRows (int n)\n",
    "{\n",
    "    int coinsLeft = n;\n",
    "    int rows = 0;\n",
    "\n",
    "    while (coinsLeft - (rows + 1) >= 0)\n",
    "    {\n",
    "        rows++;\n",
    "        coinsLeft -= rows;\n",
    "    }\n",
    "\n",
    "    return rows;\n",
    "}\n",
    "\n",
    "// int n = 4;\n",
    "int n = 34246535;\n",
    "\n",
    "int completeRows = CompleteRows(n);\n",
    "\n",
    "completeRows"
   ]
  },
  {
   "cell_type": "markdown",
   "metadata": {},
   "source": [
    "**Sum of integers formula approach**\n",
    "\n",
    "k is the number of rows and n is total coins\n",
    "\n",
    "> $(k * (k + 1)) / 2 <= n$  \n",
    "> = $k^{2} + k <= 2*n$  \n",
    "> = $(k + (1/2))^{2} <= 2*n + (1/4)$ [$k^{2} + k$ is converted to the form $(a + b)^{2}$]  \n",
    "> = $k + (1/2) <= \\sqrt{2*n + (1/4)}$  \n",
    "> = $k <= \\sqrt{2*n + (1/4)} - (1/2)$\n",
    "\n",
    "Since we need the row that has full levels, we jsut need to return the floor of above result.  \n",
    "Thus, $k = floor(\\sqrt{2*n + (1/4)} - (1/2))$"
   ]
  },
  {
   "cell_type": "code",
   "execution_count": null,
   "metadata": {
    "dotnet_interactive": {
     "language": "csharp"
    },
    "vscode": {
     "languageId": "dotnet-interactive.csharp"
    }
   },
   "outputs": [
    {
     "data": {
      "text/html": [
       "<div class=\"dni-plaintext\">8275</div>"
      ]
     },
     "metadata": {},
     "output_type": "display_data"
    }
   ],
   "source": [
    "public int CompleteRows (int n)\n",
    "{\n",
    "    return (int)(Math.Sqrt((2 * n) + (0.25)) - 0.5);\n",
    "}\n",
    "\n",
    "// int n = 4;\n",
    "int n = 34246535;\n",
    "\n",
    "int completeRows = CompleteRows(n);\n",
    "\n",
    "completeRows"
   ]
  },
  {
   "cell_type": "markdown",
   "metadata": {},
   "source": [
    "**Binary Search Approach**"
   ]
  },
  {
   "cell_type": "code",
   "execution_count": null,
   "metadata": {
    "dotnet_interactive": {
     "language": "csharp"
    },
    "vscode": {
     "languageId": "dotnet-interactive.csharp"
    }
   },
   "outputs": [],
   "source": []
  }
 ],
 "metadata": {
  "kernelspec": {
   "display_name": ".NET (C#)",
   "language": "C#",
   "name": ".net-csharp"
  },
  "language_info": {
   "file_extension": ".cs",
   "mimetype": "text/x-csharp",
   "name": "C#",
   "pygments_lexer": "csharp",
   "version": "9.0"
  },
  "orig_nbformat": 4
 },
 "nbformat": 4,
 "nbformat_minor": 2
}

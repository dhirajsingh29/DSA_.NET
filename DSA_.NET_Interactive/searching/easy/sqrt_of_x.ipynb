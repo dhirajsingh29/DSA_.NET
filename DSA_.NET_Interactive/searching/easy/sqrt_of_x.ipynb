{
 "cells": [
  {
   "cell_type": "markdown",
   "metadata": {},
   "source": [
    "[Leetcode - 69] Sqrt(x)\n",
    "\n",
    "Given a non-negative integer $x$, compute and return *the square root of $x$*.\n",
    "\n",
    "Since the return type is an integer, the decimal digits are **truncated**, and only **the integer part** of the result is returned.\n",
    "\n",
    "**Note:** You are not allowed to use any built-in exponent function or operator, such as $pow(x, 0.5)$ or $x ** 0.5$.\n",
    "\n",
    "Example 1:\n",
    "> Input: x = 4  \n",
    "> Output: 2\n",
    "\n",
    "Example 2:\n",
    "> Input: x = 8  \n",
    "> Output: 2  \n",
    "> Explanation: The square root of 8 is 2.82842..., and since the decimal part is truncated, 2 is returned.\n",
    "\n",
    "Constraints:\n",
    "> - $0 <= x <= 2^{31} - 1$"
   ]
  },
  {
   "cell_type": "code",
   "execution_count": null,
   "metadata": {
    "dotnet_interactive": {
     "language": "csharp"
    },
    "vscode": {
     "languageId": "dotnet-interactive.csharp"
    }
   },
   "outputs": [
    {
     "data": {
      "text/html": [
       "<div class=\"dni-plaintext\">3</div>"
      ]
     },
     "metadata": {},
     "output_type": "display_data"
    }
   ],
   "source": [
    "public int Sqrt (int x)\n",
    "{\n",
    "    int start = 1;\n",
    "    int end = x;\n",
    "\n",
    "    while (start <= end)\n",
    "    {\n",
    "        int mid = start + (end - start) / 2;\n",
    "\n",
    "        if (mid * mid == x)\n",
    "        {\n",
    "            return mid;\n",
    "        }\n",
    "\n",
    "        if (mid * mid < x)\n",
    "        {\n",
    "            start = mid + 1;\n",
    "        }\n",
    "        else\n",
    "        {\n",
    "            end = mid - 1;\n",
    "        }\n",
    "    }\n",
    "\n",
    "    // when number doesn't have perfect square root\n",
    "    return end;\n",
    "}\n",
    "\n",
    "int res = Sqrt(10);\n",
    "res"
   ]
  }
 ],
 "metadata": {
  "kernelspec": {
   "display_name": ".NET (C#)",
   "language": "C#",
   "name": ".net-csharp"
  },
  "language_info": {
   "file_extension": ".cs",
   "mimetype": "text/x-csharp",
   "name": "C#",
   "pygments_lexer": "csharp",
   "version": "9.0"
  },
  "orig_nbformat": 4
 },
 "nbformat": 4,
 "nbformat_minor": 2
}

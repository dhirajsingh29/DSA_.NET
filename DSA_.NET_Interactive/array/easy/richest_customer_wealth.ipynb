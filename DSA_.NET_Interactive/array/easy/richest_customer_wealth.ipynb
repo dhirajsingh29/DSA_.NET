{
 "cells": [
  {
   "cell_type": "markdown",
   "metadata": {},
   "source": [
    "[Leetcode - 1672] Richest Customer Wealth\n",
    "\n",
    "You are given an $m x n$ integer grid $accounts$ where $accounts[i][j]$ is the amount of money the $i​​​​​​​​​​​th​​​​$ customer has in the $j​​​​​​​​​​​th​​​​$ bank. Return *the **wealth** that the richest customer has*.\n",
    "\n",
    "A customer's **wealth** is the amount of money they have in all their bank accounts. The richest customer is the customer that has the maximum **wealth**.\n",
    "\n",
    "Example 1:\n",
    "> Input: accounts = [[1,2,3],[3,2,1]]  \n",
    "> Output: 6  \n",
    "> Explanation:  \n",
    "1st customer has wealth = 1 + 2 + 3 = 6  \n",
    "2nd customer has wealth = 3 + 2 + 1 = 6  \n",
    "Both customers are considered the richest with a wealth of 6 each, so return 6.\n",
    "\n",
    "Example 2:\n",
    "> Input: accounts = [[1,5],[7,3],[3,5]]  \n",
    "> Output: 10  \n",
    "> Explanation:   \n",
    "1st customer has wealth = 6  \n",
    "2nd customer has wealth = 10  \n",
    "3rd customer has wealth = 8  \n",
    "The 2nd customer is the richest with a wealth of 10.\n",
    "\n",
    "Constraints:\n",
    "> - $m == accounts.length$\n",
    "> - $n == accounts[i].length$\n",
    "> - $1 <= m, n <= 50$\n",
    "> - $1 <= accounts[i][j] <= 100$"
   ]
  },
  {
   "cell_type": "code",
   "execution_count": null,
   "metadata": {
    "dotnet_interactive": {
     "language": "csharp"
    },
    "vscode": {
     "languageId": "dotnet-interactive.csharp"
    }
   },
   "outputs": [
    {
     "data": {
      "text/html": [
       "<div class=\"dni-plaintext\">10</div>"
      ]
     },
     "metadata": {},
     "output_type": "display_data"
    }
   ],
   "source": [
    "public int GetMaxWealth (int[][] accounts)\n",
    "{\n",
    "    int max = 0;\n",
    "\n",
    "    foreach (int[] account in accounts)\n",
    "    {\n",
    "        int totalWealth = 0;\n",
    "\n",
    "        foreach (int amount in account)\n",
    "        {\n",
    "            totalWealth += amount;\n",
    "        }\n",
    "\n",
    "        max = max > totalWealth ? max : totalWealth;\n",
    "    }\n",
    "    \n",
    "    return max;\n",
    "}\n",
    "\n",
    "int[][] accounts = new int[][] \n",
    "{\n",
    "    new int[] {1,5},\n",
    "    new int[] {7,3},\n",
    "    new int[] {3,5}\n",
    "};\n",
    "\n",
    "int max = GetMaxWealth(accounts);\n",
    "\n",
    "max"
   ]
  }
 ],
 "metadata": {
  "kernelspec": {
   "display_name": ".NET (C#)",
   "language": "C#",
   "name": ".net-csharp"
  },
  "language_info": {
   "file_extension": ".cs",
   "mimetype": "text/x-csharp",
   "name": "C#",
   "pygments_lexer": "csharp",
   "version": "9.0"
  },
  "orig_nbformat": 4
 },
 "nbformat": 4,
 "nbformat_minor": 2
}

{
 "cells": [
  {
   "cell_type": "markdown",
   "metadata": {},
   "source": [
    "[Leetcode - 367] Valid Perfect Square\n",
    "\n",
    "Given a **positive** integer *num*, write a function which returns True if *num* is a perfect square else False.\n",
    "\n",
    "**Follow up: Do not** use any built-in library function such as $sqrt$.\n",
    "\n",
    "Example 1:\n",
    "> Input: num = 16  \n",
    "> Output: true\n",
    "\n",
    "Example 2:\n",
    "> Input: num = 14  \n",
    "> Output: false\n",
    "\n",
    "Constraints:\n",
    "> - $1 <= num <= 2^{31} - 1$"
   ]
  },
  {
   "cell_type": "code",
   "execution_count": null,
   "metadata": {
    "dotnet_interactive": {
     "language": "csharp"
    },
    "vscode": {
     "languageId": "dotnet-interactive.csharp"
    }
   },
   "outputs": [
    {
     "data": {
      "text/html": [
       "<div class=\"dni-plaintext\">False</div>"
      ]
     },
     "metadata": {},
     "output_type": "display_data"
    }
   ],
   "source": [
    "public bool PerfectValidSquare (int num)\n",
    "{\n",
    "    int start = 1;\n",
    "    int end = num / 2;\n",
    "\n",
    "    while (start <= end)\n",
    "    {\n",
    "        int mid = start + (end - start) / 2;\n",
    "\n",
    "        if (mid * mid == num)\n",
    "        {\n",
    "            return true;\n",
    "        }\n",
    "\n",
    "        if (mid * mid < num)\n",
    "        {\n",
    "            start = mid + 1;\n",
    "        }\n",
    "        else\n",
    "        {\n",
    "            end = mid - 1;\n",
    "        }\n",
    "    }\n",
    "\n",
    "    return false;\n",
    "}\n",
    "\n",
    "bool res = PerfectValidSquare(13);\n",
    "res"
   ]
  }
 ],
 "metadata": {
  "kernelspec": {
   "display_name": ".NET (C#)",
   "language": "C#",
   "name": ".net-csharp"
  },
  "language_info": {
   "file_extension": ".cs",
   "mimetype": "text/x-csharp",
   "name": "C#",
   "pygments_lexer": "csharp",
   "version": "9.0"
  },
  "orig_nbformat": 4
 },
 "nbformat": 4,
 "nbformat_minor": 2
}
